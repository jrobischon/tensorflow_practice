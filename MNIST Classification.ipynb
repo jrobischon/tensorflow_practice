{
 "cells": [
  {
   "cell_type": "code",
   "execution_count": 1,
   "metadata": {},
   "outputs": [],
   "source": [
    "import tensorflow as tf\n",
    "from tensorflow import keras\n",
    "\n",
    "import numpy as np\n",
    "import matplotlib.pyplot as plt\n",
    "%matplotlib inline\n",
    "import imageio"
   ]
  },
  {
   "cell_type": "code",
   "execution_count": 2,
   "metadata": {},
   "outputs": [],
   "source": [
    "(train_images, train_labels), (val_images, val_labels) \\\n",
    "                = keras.datasets.mnist.load_data()"
   ]
  },
  {
   "cell_type": "code",
   "execution_count": 3,
   "metadata": {},
   "outputs": [
    {
     "data": {
      "image/png": "[encoded data removed]",
      "text/plain": [
       "<Figure size 720x576 with 25 Axes>"
      ]
     },
     "metadata": {},
     "output_type": "display_data"
    }
   ],
   "source": [
    "samp_idx =  np.random.choice(np.arange(train_images.shape[0]), 25, replace=False)\n",
    "plt.figure(figsize=(10, 8))\n",
    "plt.title(\"Sample of Handwritten Digits\")\n",
    "for i in range(25):\n",
    "    plt.subplot(5, 5, i+1)\n",
    "    \n",
    "    idx  = samp_idx[i]\n",
    "    plt.imshow(train_images[idx], cmap=\"gray\")\n",
    "    plt.xlabel(\"label: %i\" %train_labels[idx])\n",
    "    plt.xticks([])\n",
    "    plt.yticks([])\n",
    "    plt.grid(False)\n",
    "plt.show()"
   ]
  },
  {
   "cell_type": "markdown",
   "metadata": {},
   "source": [
    "## Define Model with Keras\n",
    "Train and validate with tf.data.Dataset objects"
   ]
  },
  {
   "cell_type": "code",
   "execution_count": 4,
   "metadata": {},
   "outputs": [],
   "source": [
    "def preprocess(x):\n",
    "    out =  x.reshape(-1, 28, 28, 1).astype(np.float32)\n",
    "    out = out / 255\n",
    "    return out\n",
    "\n",
    "train_images = preprocess(train_images)\n",
    "val_images = preprocess(val_images)"
   ]
  },
  {
   "cell_type": "code",
   "execution_count": 5,
   "metadata": {},
   "outputs": [],
   "source": [
    "train_labels_enc = tf.one_hot(train_labels, depth=10)\n",
    "val_labels_enc = tf.one_hot(val_labels, depth=10)"
   ]
  },
  {
   "cell_type": "code",
   "execution_count": 20,
   "metadata": {},
   "outputs": [],
   "source": [
    "BUFFER_SIZE = 10000\n",
    "BATCH_SIZE = 128\n",
    "STEPS_PER_EPOCH = np.ceil(train_labels.shape[0] / BATCH_SIZE).astype(np.int64)\n",
    "VAL_STEPS = np.ceil(val_labels.shape[0] / BATCH_SIZE).astype(np.int64)\n",
    "train_data = tf.data.Dataset.from_tensor_slices((train_images, train_labels_enc))\n",
    "train_data = train_data.shuffle(BUFFER_SIZE)\\\n",
    "                       .batch(BATCH_SIZE)\\\n",
    "                       .repeat()\n",
    "\n",
    "val_data = tf.data.Dataset.from_tensor_slices((val_images,  val_labels_enc))\n",
    "val_data = val_data.shuffle(BUFFER_SIZE)\\\n",
    "                   .batch(BATCH_SIZE)\\\n",
    "                   .repeat()"
   ]
  },
  {
   "cell_type": "code",
   "execution_count": 21,
   "metadata": {},
   "outputs": [],
   "source": [
    "# LeNet\n",
    "model = keras.Sequential()\n",
    "model.add(keras.layers.Conv2D(20, kernel_size=(5, 5)))\n",
    "model.add(keras.layers.Activation(\"relu\"))\n",
    "model.add(keras.layers.MaxPool2D(pool_size=(2, 2)))\n",
    "model.add(keras.layers.Conv2D(50, kernel_size=(5, 5)))\n",
    "model.add(keras.layers.Activation(\"relu\"))\n",
    "model.add(keras.layers.MaxPool2D(pool_size=(2, 2)))\n",
    "model.add(keras.layers.Flatten())\n",
    "model.add(keras.layers.Dense(500, activation=\"relu\"))\n",
    "model.add(keras.layers.Dense(10, activation=\"softmax\"))"
   ]
  },
  {
   "cell_type": "code",
   "execution_count": 22,
   "metadata": {},
   "outputs": [],
   "source": [
    "model.compile(optimizer=tf.keras.optimizers.Adam(),\n",
    "               loss = \"categorical_crossentropy\",\n",
    "               metrics = [\"acc\"])"
   ]
  },
  {
   "cell_type": "code",
   "execution_count": 23,
   "metadata": {
    "scrolled": false
   },
   "outputs": [
    {
     "name": "stdout",
     "output_type": "stream",
     "text": [
      "Epoch 1/10\n",
      "469/469 [==============================] - 7s 15ms/step - loss: 0.1717 - acc: 0.9510 - val_loss: 0.0560 - val_acc: 0.9834\n",
      "Epoch 2/10\n",
      "469/469 [==============================] - 3s 5ms/step - loss: 0.0460 - acc: 0.9859 - val_loss: 0.0287 - val_acc: 0.9920\n",
      "Epoch 3/10\n",
      "469/469 [==============================] - 3s 5ms/step - loss: 0.0306 - acc: 0.9902 - val_loss: 0.0290 - val_acc: 0.9916\n",
      "Epoch 4/10\n",
      "469/469 [==============================] - 3s 5ms/step - loss: 0.0227 - acc: 0.9933 - val_loss: 0.0290 - val_acc: 0.9906\n",
      "Epoch 5/10\n",
      "469/469 [==============================] - 3s 5ms/step - loss: 0.0174 - acc: 0.9945 - val_loss: 0.0176 - val_acc: 0.9946\n",
      "Epoch 6/10\n",
      "469/469 [==============================] - 3s 5ms/step - loss: 0.0138 - acc: 0.9955 - val_loss: 0.0128 - val_acc: 0.9964\n",
      "Epoch 7/10\n",
      "469/469 [==============================] - 3s 5ms/step - loss: 0.0115 - acc: 0.9964 - val_loss: 0.0087 - val_acc: 0.9967\n",
      "Epoch 8/10\n",
      "469/469 [==============================] - 3s 5ms/step - loss: 0.0088 - acc: 0.9972 - val_loss: 0.0067 - val_acc: 0.9979\n",
      "Epoch 9/10\n",
      "469/469 [==============================] - 3s 5ms/step - loss: 0.0081 - acc: 0.9971 - val_loss: 0.0051 - val_acc: 0.9984\n",
      "Epoch 10/10\n",
      "469/469 [==============================] - 3s 5ms/step - loss: 0.0061 - acc: 0.9979 - val_loss: 0.0045 - val_acc: 0.9985\n"
     ]
    }
   ],
   "source": [
    "history = model.fit(train_data,\n",
    "                    epochs=10, \n",
    "                    steps_per_epoch=STEPS_PER_EPOCH,\n",
    "                    validation_data = val_data,\n",
    "                    validation_steps = VAL_STEPS)"
   ]
  },
  {
   "cell_type": "code",
   "execution_count": null,
   "metadata": {},
   "outputs": [],
   "source": [
    "plt.figure(figsize=(8, 6))\n",
    "plt.title(\"Training and Validation Losses\")\n",
    "plt.plot(history.history[\"loss\"], label=\"train\")\n",
    "plt.plot(history.history[\"val_loss\"], label = \"validation\")\n",
    "plt.ylabel(\"Loss\")\n",
    "plt.xlabel(\"Epochs\")\n",
    "plt.legend(frameon=False, loc=2, bbox_to_anchor=(1, 1))\n",
    "plt.show()\n",
    "\n",
    "print(\"Training Accuracy: %.2f%%\" % (history.history[\"acc\"][-1]*100))\n",
    "print(\"Validation Accuracy: %.2f%%\" % (history.history[\"val_acc\"][-1]*100))"
   ]
  },
  {
   "cell_type": "code",
   "execution_count": 14,
   "metadata": {},
   "outputs": [
    {
     "data": {
      "text/plain": [
       "78"
      ]
     },
     "execution_count": 14,
     "metadata": {},
     "output_type": "execute_result"
    }
   ],
   "source": [
    "val_images.shape[0] // BATCH_SIZE"
   ]
  },
  {
   "cell_type": "code",
   "execution_count": 19,
   "metadata": {},
   "outputs": [
    {
     "data": {
      "text/plain": [
       "469.0"
      ]
     },
     "execution_count": 19,
     "metadata": {},
     "output_type": "execute_result"
    }
   ],
   "source": [
    "STEPS_PER_EPOCH"
   ]
  },
  {
   "cell_type": "code",
   "execution_count": null,
   "metadata": {},
   "outputs": [],
   "source": []
  }
 ],
 "metadata": {
  "kernelspec": {
   "display_name": "Tensorflow",
   "language": "python",
   "name": "tf_venv"
  },
  "language_info": {
   "codemirror_mode": {
    "name": "ipython",
    "version": 3
   },
   "file_extension": ".py",
   "mimetype": "text/x-python",
   "name": "python",
   "nbconvert_exporter": "python",
   "pygments_lexer": "ipython3",
   "version": "3.6.6"
  }
 },
 "nbformat": 4,
 "nbformat_minor": 2
}
