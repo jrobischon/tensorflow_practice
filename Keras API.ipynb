{
 "cells": [
  {
   "cell_type": "code",
   "execution_count": 17,
   "metadata": {},
   "outputs": [],
   "source": [
    "import tensorflow as tf\n",
    "from tensorflow import keras\n",
    "import numpy as np"
   ]
  },
  {
   "cell_type": "code",
   "execution_count": 5,
   "metadata": {},
   "outputs": [
    {
     "data": {
      "text/plain": [
       "'2.1.6-tf'"
      ]
     },
     "execution_count": 5,
     "metadata": {},
     "output_type": "execute_result"
    }
   ],
   "source": [
    "keras.__version__"
   ]
  },
  {
   "cell_type": "code",
   "execution_count": 6,
   "metadata": {},
   "outputs": [],
   "source": [
    "# Define a fully-connected network\n",
    "model = keras.Sequential()\n",
    "\n",
    "model.add(keras.layers.Dense(64, activation='relu'))\n",
    "model.add(keras.layers.Dense(64, activation='relu'))\n",
    "model.add(keras.layers.Dense(10, activation='softmax'))"
   ]
  },
  {
   "cell_type": "code",
   "execution_count": 16,
   "metadata": {},
   "outputs": [],
   "source": [
    "# Model compile\n",
    "model.compile(optimizer=tf.train.AdamOptimizer(0.01),\n",
    "              loss='categorical_crossentropy',\n",
    "              metrics = ['accuracy'])"
   ]
  },
  {
   "cell_type": "code",
   "execution_count": 19,
   "metadata": {},
   "outputs": [
    {
     "name": "stdout",
     "output_type": "stream",
     "text": [
      "Train on 1000 samples, validate on 100 samples\n",
      "Epoch 1/10\n",
      "1000/1000 [==============================] - 1s 547us/step - loss: 11.5819 - acc: 0.0880 - val_loss: 11.4309 - val_acc: 0.0700\n",
      "Epoch 2/10\n",
      "1000/1000 [==============================] - 0s 235us/step - loss: 11.5768 - acc: 0.1000 - val_loss: 11.4299 - val_acc: 0.1000\n",
      "Epoch 3/10\n",
      "1000/1000 [==============================] - 0s 265us/step - loss: 11.5763 - acc: 0.0990 - val_loss: 11.4288 - val_acc: 0.1100\n",
      "Epoch 4/10\n",
      "1000/1000 [==============================] - 0s 249us/step - loss: 11.5763 - acc: 0.1010 - val_loss: 11.4308 - val_acc: 0.0700\n",
      "Epoch 5/10\n",
      "1000/1000 [==============================] - 0s 269us/step - loss: 11.5765 - acc: 0.1060 - val_loss: 11.4297 - val_acc: 0.0700\n",
      "Epoch 6/10\n",
      "1000/1000 [==============================] - 0s 302us/step - loss: 11.5766 - acc: 0.1050 - val_loss: 11.4291 - val_acc: 0.0700\n",
      "Epoch 7/10\n",
      "1000/1000 [==============================] - 0s 278us/step - loss: 11.5776 - acc: 0.0870 - val_loss: 11.4288 - val_acc: 0.0900\n",
      "Epoch 8/10\n",
      "1000/1000 [==============================] - 0s 278us/step - loss: 11.5764 - acc: 0.1090 - val_loss: 11.4294 - val_acc: 0.0700\n",
      "Epoch 9/10\n",
      "1000/1000 [==============================] - 0s 298us/step - loss: 11.5768 - acc: 0.1070 - val_loss: 11.4289 - val_acc: 0.1200\n",
      "Epoch 10/10\n",
      "1000/1000 [==============================] - 0s 266us/step - loss: 11.5763 - acc: 0.1050 - val_loss: 11.4299 - val_acc: 0.1000\n"
     ]
    },
    {
     "data": {
      "text/plain": [
       "<tensorflow.python.keras.callbacks.History at 0x1ee6c2cef98>"
      ]
     },
     "execution_count": 19,
     "metadata": {},
     "output_type": "execute_result"
    }
   ],
   "source": [
    "data = np.random.random((1000, 32))\n",
    "labels = np.random.random((1000, 10))\n",
    "\n",
    "val_data = np.random.random((100, 32))\n",
    "val_labels = np.random.random((100, 10)) \n",
    "\n",
    "\n",
    "model.fit(data, labels, epochs=10, batch_size=32,\n",
    "          validation_data=(val_data, val_labels))"
   ]
  },
  {
   "cell_type": "code",
   "execution_count": 41,
   "metadata": {},
   "outputs": [
    {
     "name": "stdout",
     "output_type": "stream",
     "text": [
      "Epoch 1/10\n",
      "32/32 [==============================] - 1s 16ms/step - loss: 11.5620 - acc: 0.1143\n",
      "Epoch 2/10\n",
      "32/32 [==============================] - 0s 7ms/step - loss: 11.5625 - acc: 0.0947\n",
      "Epoch 3/10\n",
      "32/32 [==============================] - 0s 9ms/step - loss: 11.5624 - acc: 0.1016\n",
      "Epoch 4/10\n",
      "32/32 [==============================] - 0s 10ms/step - loss: 11.5624 - acc: 0.1016\n",
      "Epoch 5/10\n",
      "32/32 [==============================] - 0s 9ms/step - loss: 11.5624 - acc: 0.1016\n",
      "Epoch 6/10\n",
      "32/32 [==============================] - 0s 9ms/step - loss: 11.5624 - acc: 0.1016\n",
      "Epoch 7/10\n",
      "32/32 [==============================] - 0s 10ms/step - loss: 11.5624 - acc: 0.1016\n",
      "Epoch 8/10\n",
      "32/32 [==============================] - 0s 9ms/step - loss: 11.5624 - acc: 0.1016\n",
      "Epoch 9/10\n",
      "32/32 [==============================] - 0s 9ms/step - loss: 11.5624 - acc: 0.1016\n",
      "Epoch 10/10\n",
      "32/32 [==============================] - 0s 9ms/step - loss: 11.5624 - acc: 0.1016\n"
     ]
    },
    {
     "data": {
      "text/plain": [
       "<tensorflow.python.keras.callbacks.History at 0x1ef64ce3b70>"
      ]
     },
     "execution_count": 41,
     "metadata": {},
     "output_type": "execute_result"
    }
   ],
   "source": [
    "# Using the Datasets API\n",
    "dataset = tf.data.Dataset.from_tensor_slices((data, labels))\n",
    "dataset = dataset.batch(32)\n",
    "dataset = dataset.repeat()\n",
    "\n",
    "# Need to specify steps_per_epoch\n",
    "model.fit(dataset, epochs=10, steps_per_epoch=32)"
   ]
  },
  {
   "cell_type": "code",
   "execution_count": 35,
   "metadata": {},
   "outputs": [
    {
     "name": "stdout",
     "output_type": "stream",
     "text": [
      "['loss', 'acc']\n",
      "100/100 [==============================] - 0s 184us/step\n"
     ]
    },
    {
     "data": {
      "text/plain": [
       "[11.429250717163086, 0.12]"
      ]
     },
     "execution_count": 35,
     "metadata": {},
     "output_type": "execute_result"
    }
   ],
   "source": [
    "# Evaluation\n",
    "print(model.metrics_names)\n",
    "model.evaluate(val_data, val_labels, batch_size=32)"
   ]
  },
  {
   "cell_type": "code",
   "execution_count": 42,
   "metadata": {},
   "outputs": [
    {
     "data": {
      "text/plain": [
       "(1000, 10)"
      ]
     },
     "execution_count": 42,
     "metadata": {},
     "output_type": "execute_result"
    }
   ],
   "source": [
    "# Prediction\n",
    "y_pred = model.predict(dataset, steps=32)\n",
    "\n",
    "y_pred.shape"
   ]
  },
  {
   "cell_type": "code",
   "execution_count": 44,
   "metadata": {},
   "outputs": [
    {
     "name": "stdout",
     "output_type": "stream",
     "text": [
      "Epoch 1/5\n",
      "1000/1000 [==============================] - 1s 877us/step - loss: 11.6597 - acc: 0.1080\n",
      "Epoch 2/5\n",
      "1000/1000 [==============================] - 0s 217us/step - loss: 11.6187 - acc: 0.1140\n",
      "Epoch 3/5\n",
      "1000/1000 [==============================] - 0s 258us/step - loss: 11.6031 - acc: 0.0920\n",
      "Epoch 4/5\n",
      "1000/1000 [==============================] - 0s 270us/step - loss: 11.5925 - acc: 0.0950\n",
      "Epoch 5/5\n",
      "1000/1000 [==============================] - 0s 269us/step - loss: 11.5802 - acc: 0.1070\n"
     ]
    },
    {
     "data": {
      "text/plain": [
       "<tensorflow.python.keras.callbacks.History at 0x1ef64d5f7b8>"
      ]
     },
     "execution_count": 44,
     "metadata": {},
     "output_type": "execute_result"
    }
   ],
   "source": [
    "# Functional API allows for more complex models\n",
    "\n",
    "inputs = keras.Input(shape=(32,))  # Returns a placeholder tensor\n",
    "\n",
    "# A layer instance is callable on a tensor, and returns a tensor.\n",
    "x = keras.layers.Dense(64, activation='relu')(inputs)\n",
    "x = keras.layers.Dense(64, activation='relu')(x)\n",
    "predictions = keras.layers.Dense(10, activation='softmax')(x)\n",
    "\n",
    "# Instantiate the model given inputs and outputs.\n",
    "model = keras.Model(inputs=inputs, outputs=predictions)\n",
    "\n",
    "# The compile step specifies the training configuration.\n",
    "model.compile(optimizer=tf.train.RMSPropOptimizer(0.001),\n",
    "              loss='categorical_crossentropy',\n",
    "              metrics=['accuracy'])\n",
    "\n",
    "# Trains for 5 epochs\n",
    "model.fit(data, labels, batch_size=32, epochs=5)"
   ]
  },
  {
   "cell_type": "code",
   "execution_count": 46,
   "metadata": {},
   "outputs": [
    {
     "name": "stdout",
     "output_type": "stream",
     "text": [
      "Epoch 1/5\n",
      "1000/1000 [==============================] - 1s 791us/step - loss: 11.6084 - acc: 0.0970\n",
      "Epoch 2/5\n",
      "1000/1000 [==============================] - 0s 194us/step - loss: 11.5872 - acc: 0.0870\n",
      "Epoch 3/5\n",
      "1000/1000 [==============================] - 0s 231us/step - loss: 11.5807 - acc: 0.1070\n",
      "Epoch 4/5\n",
      "1000/1000 [==============================] - 0s 238us/step - loss: 11.5791 - acc: 0.1240\n",
      "Epoch 5/5\n",
      "1000/1000 [==============================] - 0s 240us/step - loss: 11.5773 - acc: 0.1170\n"
     ]
    },
    {
     "data": {
      "text/plain": [
       "<tensorflow.python.keras.callbacks.History at 0x1ef6a13c278>"
      ]
     },
     "execution_count": 46,
     "metadata": {},
     "output_type": "execute_result"
    }
   ],
   "source": [
    "\"\"\"\n",
    "Defining a custom layer\n",
    "\n",
    "build: Create the weights of the layer. Add weights with the add_weight method.\n",
    "call: Define the forward pass.\n",
    "compute_output_shape: Specify how to compute the output shape of the layer given the input shape.\n",
    "Optionally, a layer can be serialized by implementing the get_config method and the from_config class method.\n",
    "\n",
    "\n",
    "\"\"\"\n",
    "\n",
    "\n",
    "class MyLayer(keras.layers.Layer):\n",
    "\n",
    "  def __init__(self, output_dim, **kwargs):\n",
    "    self.output_dim = output_dim\n",
    "    super(MyLayer, self).__init__(**kwargs)\n",
    "\n",
    "  def build(self, input_shape):\n",
    "    shape = tf.TensorShape((input_shape[1], self.output_dim))\n",
    "    # Create a trainable weight variable for this layer.\n",
    "    self.kernel = self.add_weight(name='kernel',\n",
    "                                  shape=shape,\n",
    "                                  initializer='uniform',\n",
    "                                  trainable=True)\n",
    "    # Be sure to call this at the end\n",
    "    super(MyLayer, self).build(input_shape)\n",
    "\n",
    "  def call(self, inputs):\n",
    "    return tf.matmul(inputs, self.kernel)\n",
    "\n",
    "  def compute_output_shape(self, input_shape):\n",
    "    shape = tf.TensorShape(input_shape).as_list()\n",
    "    shape[-1] = self.output_dim\n",
    "    return tf.TensorShape(shape)\n",
    "\n",
    "  def get_config(self):\n",
    "    base_config = super(MyLayer, self).get_config()\n",
    "    base_config['output_dim'] = self.output_dim\n",
    "    return base_config\n",
    "\n",
    "  @classmethod\n",
    "  def from_config(cls, config):\n",
    "    return cls(**config)\n",
    "\n",
    "\n",
    "# Create a model using the custom layer\n",
    "model = keras.Sequential([MyLayer(10),\n",
    "                          keras.layers.Activation('softmax')])\n",
    "\n",
    "# The compile step specifies the training configuration\n",
    "model.compile(optimizer=tf.train.RMSPropOptimizer(0.001),\n",
    "              loss='categorical_crossentropy',\n",
    "              metrics=['accuracy'])\n",
    "\n",
    "# Trains for 5 epochs.\n",
    "model.fit(data, labels, batch_size=32, epochs=5)"
   ]
  },
  {
   "cell_type": "code",
   "execution_count": 15,
   "metadata": {},
   "outputs": [
    {
     "data": {
      "text/plain": [
       "<tensorflow.python.keras.layers.core.Dense at 0x1ee6ad07668>"
      ]
     },
     "execution_count": 15,
     "metadata": {},
     "output_type": "execute_result"
    }
   ],
   "source": [
    "# Create a sigmoid layer\n",
    "keras.layers.Dense(64, activation='sigmoid')\n",
    "# Or\n",
    "keras.layers.Dense(64, activation=tf.sigmoid)\n",
    "\n",
    "# Linear layer with L1 reg. applied to kernel matrix\n",
    "keras.layers.Dense(64, kernel_regularizer=keras.regularizers.l1(0.01))\n",
    "# Linear layer with L2 reg. applied to bias\n",
    "keras.layers.Dense(64, bias_regularizer=keras.regularizers.l2(0.01))\n",
    "\n",
    "\n",
    "# Linear layer with kernel initialized to random orthogonal matrix\n",
    "keras.layers.Dense(64, kernel_initializer=\"orthogonal\")\n",
    "\n",
    "# Linear layer with kernel initialized to 2.0s\n",
    "keras.layers.Dense(64, kernel_initializer=keras.initializers.constant(2.0))"
   ]
  },
  {
   "cell_type": "code",
   "execution_count": 10,
   "metadata": {},
   "outputs": [],
   "source": []
  },
  {
   "cell_type": "code",
   "execution_count": null,
   "metadata": {},
   "outputs": [],
   "source": []
  }
 ],
 "metadata": {
  "kernelspec": {
   "display_name": "Tensorflow",
   "language": "python",
   "name": "tf_venv"
  },
  "language_info": {
   "codemirror_mode": {
    "name": "ipython",
    "version": 3
   },
   "file_extension": ".py",
   "mimetype": "text/x-python",
   "name": "python",
   "nbconvert_exporter": "python",
   "pygments_lexer": "ipython3",
   "version": "3.6.6"
  }
 },
 "nbformat": 4,
 "nbformat_minor": 2
}
