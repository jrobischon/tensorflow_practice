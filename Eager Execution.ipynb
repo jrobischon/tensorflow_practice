{
 "cells": [
  {
   "cell_type": "markdown",
   "metadata": {},
   "source": [
    "# Eager Execution"
   ]
  },
  {
   "cell_type": "code",
   "execution_count": 44,
   "metadata": {},
   "outputs": [],
   "source": [
    "import tensorflow as tf\n",
    "import numpy as np\n",
    "tf.enable_eager_execution()"
   ]
  },
  {
   "cell_type": "markdown",
   "metadata": {},
   "source": [
    "## Tensors\n",
    "Basic tensor operations"
   ]
  },
  {
   "cell_type": "code",
   "execution_count": 18,
   "metadata": {},
   "outputs": [
    {
     "name": "stdout",
     "output_type": "stream",
     "text": [
      "tf.Tensor(3, shape=(), dtype=int32)\n",
      "tf.Tensor([4 6], shape=(2,), dtype=int32)\n",
      "tf.Tensor([25 36], shape=(2,), dtype=int32)\n",
      "tf.Tensor([ 6 15], shape=(2,), dtype=int32)\n",
      "tf.Tensor([5 7 9], shape=(3,), dtype=int32)\n"
     ]
    }
   ],
   "source": [
    "print(tf.add(1, 2))\n",
    "print(tf.add([1, 2], [3, 4]))\n",
    "print(tf.square([5, 6]))\n",
    "print(tf.reduce_sum([[1,2, 3], [4, 5, 6]], axis=1))\n",
    "print(tf.reduce_sum([[1,2, 3], [4, 5, 6]], axis=0))"
   ]
  },
  {
   "cell_type": "code",
   "execution_count": 42,
   "metadata": {},
   "outputs": [
    {
     "name": "stdout",
     "output_type": "stream",
     "text": [
      "(1, 2)\n",
      "<dtype: 'int32'>\n",
      "tf.Tensor([[2 3]], shape=(1, 2), dtype=int32)\n"
     ]
    }
   ],
   "source": [
    "x = tf.matmul([[1]], [[2, 3]])\n",
    "print(x.shape)\n",
    "print(x.dtype)\n",
    "print(x)"
   ]
  },
  {
   "cell_type": "markdown",
   "metadata": {},
   "source": [
    "Tensors are immutable\n"
   ]
  },
  {
   "cell_type": "code",
   "execution_count": 94,
   "metadata": {},
   "outputs": [
    {
     "data": {
      "text/plain": [
       "<tf.Tensor: id=163647, shape=(2,), dtype=int32, numpy=array([1, 2])>"
      ]
     },
     "execution_count": 94,
     "metadata": {},
     "output_type": "execute_result"
    }
   ],
   "source": []
  },
  {
   "cell_type": "code",
   "execution_count": 47,
   "metadata": {},
   "outputs": [
    {
     "name": "stdout",
     "output_type": "stream",
     "text": [
      "tf.Tensor(\n",
      "[[10. 10. 10.]\n",
      " [10. 10. 10.]\n",
      " [10. 10. 10.]], shape=(3, 3), dtype=float64)\n"
     ]
    }
   ],
   "source": [
    "# Convert Numpy arrays to tensor\n",
    "x = np.array([1,2])\n",
    "tf.convert_to_tensor(x)\n",
    "\n",
    "# TensorFlow operation on numpy array returns tensor\n",
    "x = np.ones([3, 3])\n",
    "\n",
    "tensor = tf.multiply(x, 10)\n",
    "print(tensor)"
   ]
  },
  {
   "cell_type": "code",
   "execution_count": 56,
   "metadata": {},
   "outputs": [
    {
     "data": {
      "text/plain": [
       "array([[10.],\n",
       "       [10.],\n",
       "       [10.],\n",
       "       [10.],\n",
       "       [10.],\n",
       "       [10.],\n",
       "       [10.],\n",
       "       [10.],\n",
       "       [10.]])"
      ]
     },
     "execution_count": 56,
     "metadata": {},
     "output_type": "execute_result"
    }
   ],
   "source": [
    "# Numpy operation on tensor returns numpy array\n",
    "np.reshape(tensor, newshape=(-1,1))"
   ]
  },
  {
   "cell_type": "markdown",
   "metadata": {},
   "source": [
    "## GPU Acceleration"
   ]
  },
  {
   "cell_type": "code",
   "execution_count": 60,
   "metadata": {},
   "outputs": [
    {
     "name": "stdout",
     "output_type": "stream",
     "text": [
      "Is GPU available:\n",
      "True\n",
      "Is the Tensor on GPU #0:\n",
      "True\n"
     ]
    }
   ],
   "source": [
    "x = tf.random_uniform([3, 3])\n",
    "\n",
    "print(\"Is GPU available:\")\n",
    "print(tf.test.is_gpu_available())\n",
    "\n",
    "print(\"Is the Tensor on GPU #0:\")\n",
    "print(tf.test.is_gpu_available('GPU:0'))"
   ]
  },
  {
   "cell_type": "code",
   "execution_count": 68,
   "metadata": {},
   "outputs": [
    {
     "name": "stdout",
     "output_type": "stream",
     "text": [
      "On CPU:\n",
      "12.7 ms ± 97.8 µs per loop (mean ± std. dev. of 7 runs, 100 loops each)\n",
      "On GPU:\n",
      "664 µs ± 1.08 µs per loop (mean ± std. dev. of 7 runs, 10000 loops each)\n"
     ]
    }
   ],
   "source": [
    "def time_matmul(x):\n",
    "  %timeit tf.matmul(x, x)\n",
    "\n",
    "# Force execution on CPU\n",
    "print(\"On CPU:\")\n",
    "with tf.device(\"CPU:0\"):\n",
    "    x = tf.random_uniform([1000, 1000])\n",
    "    assert x.device.endswith(\"CPU:0\")\n",
    "    time_matmul(x)\n",
    "\n",
    "# Force execution on GPU #0 if available\n",
    "if tf.test.is_gpu_available():\n",
    "    print(\"On GPU:\")\n",
    "    with tf.device(\"GPU:0\"): # Or GPU:1 for the 2nd GPU, GPU:2 for the 3rd etc.\n",
    "        x = tf.random_uniform([1000, 1000])\n",
    "        assert x.device.endswith(\"GPU:0\")\n",
    "        time_matmul(x)"
   ]
  },
  {
   "cell_type": "markdown",
   "metadata": {},
   "source": [
    "## Datasets"
   ]
  },
  {
   "cell_type": "code",
   "execution_count": 91,
   "metadata": {},
   "outputs": [
    {
     "name": "stdout",
     "output_type": "stream",
     "text": [
      "tf.Tensor(1, shape=(), dtype=int32)\n",
      "tf.Tensor(2, shape=(), dtype=int32)\n",
      "tf.Tensor(3, shape=(), dtype=int32)\n"
     ]
    }
   ],
   "source": [
    "ds_tensors = tf.data.Dataset.from_tensor_slices([1, 2, 3])\n",
    "\n",
    "for i in ds_tensors:\n",
    "    print(i)"
   ]
  },
  {
   "cell_type": "code",
   "execution_count": 92,
   "metadata": {},
   "outputs": [
    {
     "name": "stdout",
     "output_type": "stream",
     "text": [
      "tf.Tensor(b'Line 1', shape=(), dtype=string)\n",
      "tf.Tensor(b'Line 2', shape=(), dtype=string)\n",
      "tf.Tensor(b'Line 3', shape=(), dtype=string)\n"
     ]
    }
   ],
   "source": [
    "import tempfile\n",
    "_, filename = tempfile.mkstemp()\n",
    "\n",
    "with open(filename, 'w') as f:\n",
    "    f.write(\"\"\"Line 1\n",
    "Line 2\n",
    "Line 3\"\"\")\n",
    "    \n",
    "ds_file = tf.data.TextLineDataset(filename)\n",
    "\n",
    "for i in ds_file:\n",
    "    print(i)"
   ]
  },
  {
   "cell_type": "markdown",
   "metadata": {},
   "source": [
    "Iteration only works in eager execution mode"
   ]
  }
 ],
 "metadata": {
  "kernelspec": {
   "display_name": "Tensorflow",
   "language": "python",
   "name": "tf_venv"
  },
  "language_info": {
   "codemirror_mode": {
    "name": "ipython",
    "version": 3
   },
   "file_extension": ".py",
   "mimetype": "text/x-python",
   "name": "python",
   "nbconvert_exporter": "python",
   "pygments_lexer": "ipython3",
   "version": "3.6.6"
  }
 },
 "nbformat": 4,
 "nbformat_minor": 2
}
