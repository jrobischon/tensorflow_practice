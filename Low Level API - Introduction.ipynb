{
 "cells": [
  {
   "cell_type": "code",
   "execution_count": 1,
   "metadata": {},
   "outputs": [],
   "source": [
    "import tensorflow as tf\n",
    "import numpy as np"
   ]
  },
  {
   "cell_type": "code",
   "execution_count": 2,
   "metadata": {},
   "outputs": [
    {
     "name": "stdout",
     "output_type": "stream",
     "text": [
      "Tensor(\"Const:0\", shape=(), dtype=float32)\n",
      "Tensor(\"Const_1:0\", shape=(), dtype=float32)\n",
      "Tensor(\"add:0\", shape=(), dtype=float32)\n"
     ]
    }
   ],
   "source": [
    "a = tf.constant(3.0, dtype = tf.float32)\n",
    "b = tf.constant(4.0)\n",
    "total = a + b\n",
    "print(a)\n",
    "print(b)\n",
    "print(total)"
   ]
  },
  {
   "cell_type": "markdown",
   "metadata": {},
   "source": [
    "Statements above define the computation graph. They do not execute"
   ]
  },
  {
   "cell_type": "code",
   "execution_count": 3,
   "metadata": {},
   "outputs": [],
   "source": [
    "writer = tf.summary.FileWriter('.')\n",
    "writer.add_graph(tf.get_default_graph())"
   ]
  },
  {
   "cell_type": "markdown",
   "metadata": {},
   "source": [
    "Open tensorboard by entering the following shell command\n",
    "\n",
    "tensorboard --logdir .\n",
    "\n",
    "Open in chrome\n",
    "\n",
    "localhost:6006"
   ]
  },
  {
   "cell_type": "code",
   "execution_count": 7,
   "metadata": {},
   "outputs": [
    {
     "name": "stdout",
     "output_type": "stream",
     "text": [
      "7.0\n"
     ]
    }
   ],
   "source": [
    "# Run session\n",
    "sess = tf.Session()\n",
    "print(sess.run(total))"
   ]
  },
  {
   "cell_type": "code",
   "execution_count": 8,
   "metadata": {},
   "outputs": [
    {
     "data": {
      "text/plain": [
       "{'ab': (3.0, 4.0), 'total': 7.0}"
      ]
     },
     "execution_count": 8,
     "metadata": {},
     "output_type": "execute_result"
    }
   ],
   "source": [
    "sess.run({'ab': (a, b), 'total': total})"
   ]
  },
  {
   "cell_type": "code",
   "execution_count": 11,
   "metadata": {},
   "outputs": [
    {
     "name": "stdout",
     "output_type": "stream",
     "text": [
      "[0.9093877  0.75254667 0.46395898]\n",
      "[0.41055417 0.89399695 0.7927828 ]\n",
      "(array([1.8888285, 1.7362406, 1.8416642], dtype=float32), array([2.8888285, 2.7362406, 2.8416643], dtype=float32))\n"
     ]
    }
   ],
   "source": [
    "# Tensors have a single value for each call to tf.Session.run\n",
    "vec = tf.random_uniform(shape=(3,))\n",
    "out1 = vec + 1\n",
    "out2 = vec + 2\n",
    "\n",
    "# Different for each call\n",
    "print(sess.run(vec))\n",
    "print(sess.run(vec))\n",
    "\n",
    "# Consistent within a single call\n",
    "print(sess.run((out1, out2)))"
   ]
  },
  {
   "cell_type": "code",
   "execution_count": 19,
   "metadata": {},
   "outputs": [
    {
     "name": "stdout",
     "output_type": "stream",
     "text": [
      "11.0\n",
      "[11. 12.]\n",
      "-1.0\n"
     ]
    }
   ],
   "source": [
    "# Data can be fed into a graph using placeholders\n",
    "\n",
    "x = tf.placeholder(tf.float32)\n",
    "y = tf.placeholder(tf.float32)\n",
    "z = x + y\n",
    "\n",
    "# Pass in values with feed_dict\n",
    "print(sess.run(z, feed_dict ={x: 5, y: 6}))\n",
    "\n",
    "print(sess.run(z, feed_dict ={x: [5, 6], y: 6}))\n",
    "\n",
    "# Can overwrite values in graph\n",
    "print(sess.run(z, feed_dict ={x: [5, 6], y: 6, z: -1}))"
   ]
  },
  {
   "cell_type": "code",
   "execution_count": 27,
   "metadata": {},
   "outputs": [],
   "source": [
    "# Datasets are preferred method to pass data into graph\n",
    "\n",
    "my_data = [\n",
    "    [0, 1],\n",
    "    [2, 3],\n",
    "    [4, 5]    \n",
    "]\n",
    "\n",
    "slices = tf.data.Dataset.from_tensor_slices(my_data)\n",
    "\n",
    "x = slices.make_one_shot_iterator().get_next()\n",
    "\n",
    "out = x*5 + 3\n"
   ]
  },
  {
   "cell_type": "code",
   "execution_count": 28,
   "metadata": {},
   "outputs": [
    {
     "name": "stdout",
     "output_type": "stream",
     "text": [
      "[3 8]\n",
      "[13 18]\n",
      "[23 28]\n"
     ]
    }
   ],
   "source": [
    "while True:\n",
    "    try:\n",
    "        print(sess.run(out))\n",
    "    except tf.errors.OutOfRangeError:\n",
    "        break"
   ]
  },
  {
   "cell_type": "code",
   "execution_count": 42,
   "metadata": {},
   "outputs": [
    {
     "data": {
      "text/plain": [
       "array([[-0.7834084],\n",
       "       [-1.4206883]], dtype=float32)"
      ]
     },
     "execution_count": 42,
     "metadata": {},
     "output_type": "execute_result"
    }
   ],
   "source": [
    "## Defining a model with layers\n",
    "\n",
    "x = tf.placeholder(tf.float32, shape=[None, 3])\n",
    "linear_model = tf.layers.Dense(units=1)\n",
    "y = linear_model(x)\n",
    "\n",
    "# Layers must be initialized\n",
    "init = tf.global_variables_initializer()\n",
    "sess.run(init)\n",
    "\n",
    "sess.run(y, feed_dict={x: [[4, 5, 6], [3, 2, 1]]})"
   ]
  },
  {
   "cell_type": "code",
   "execution_count": 47,
   "metadata": {},
   "outputs": [
    {
     "data": {
      "text/plain": [
       "array([[-5.6478987],\n",
       "       [-1.8815993]], dtype=float32)"
      ]
     },
     "execution_count": 47,
     "metadata": {},
     "output_type": "execute_result"
    }
   ],
   "source": [
    "\"\"\"\n",
    "Defining a model with shortcut layers\n",
    "\n",
    "Cons:\n",
    "Cannot resue layers\n",
    "Cannot access tf.layers.Layer object\n",
    "May be more difficult to debug\n",
    "\"\"\"\n",
    "\n",
    "x = tf.placeholder(tf.float32, shape=[None, 3])\n",
    "y = tf.layers.dense(x, units=1)\n",
    "\n",
    "# Layers must be initialized\n",
    "init = tf.global_variables_initializer()\n",
    "sess.run(init)\n",
    "\n",
    "sess.run(y, feed_dict={x: [[4, 5, 6], [3, 2, 1]]})"
   ]
  },
  {
   "cell_type": "code",
   "execution_count": 66,
   "metadata": {},
   "outputs": [
    {
     "name": "stdout",
     "output_type": "stream",
     "text": [
      "Loss Values\n",
      "Iteration 0: 3.739\n",
      "Iteration 1: 1.833\n",
      "Iteration 2: 1.224\n",
      "Iteration 3: 1.026\n",
      "Iteration 4: 0.959\n",
      "Iteration 5: 0.933\n",
      "Iteration 6: 0.921\n",
      "Iteration 7: 0.912\n",
      "Iteration 8: 0.905\n",
      "Iteration 9: 0.899\n",
      "\n",
      "Predicted values\n",
      "[[-1.5047321]\n",
      " [-1.704733 ]\n",
      " [-1.904734 ]\n",
      " [-2.1047351]]\n",
      "\n",
      "Kernel Weights\n",
      "[[ 1.0959226]\n",
      " [-1.2959236]]\n",
      "\n",
      "Bias Weight\n",
      "[-0.00880751]\n"
     ]
    }
   ],
   "source": [
    "x = tf.constant([[1, 2], [2, 3], [3, 4], [4, 5]], dtype=tf.float32)\n",
    "y_true = tf.constant([[0], [-1], [-2], [-3]], dtype=tf.float32)\n",
    "\n",
    "linear_model = tf.layers.Dense(units=1)\n",
    "\n",
    "y_pred = linear_model(x)\n",
    "loss = tf.losses.mean_squared_error(labels=y_true, predictions=y_pred)\n",
    "\n",
    "optimizer = tf.train.GradientDescentOptimizer(0.01)\n",
    "train = optimizer.minimize(loss)\n",
    "\n",
    "init = tf.global_variables_initializer()\n",
    "\n",
    "sess = tf.Session()\n",
    "sess.run(init)\n",
    "         \n",
    "print(\"Loss Values\")\n",
    "for i in range(10):\n",
    "  _, loss_value = sess.run((train, loss))\n",
    "  print(\"Iteration %i: %.3f\" %(i, loss_value))\n",
    "\n",
    "print(\"\\nPredicted values\")\n",
    "print(sess.run(y_pred))\n",
    "\n",
    "print(\"\\nKernel Weights\")\n",
    "print(sess.run(linear_model.weights[0]))\n",
    "\n",
    "print(\"\\nBias Weight\")\n",
    "print(sess.run(linear_model.weights[1]))"
   ]
  },
  {
   "cell_type": "code",
   "execution_count": 56,
   "metadata": {},
   "outputs": [
    {
     "data": {
      "text/plain": [
       "[<tf.Variable 'dense_16/kernel:0' shape=(1, 1) dtype=float32_ref>,\n",
       " <tf.Variable 'dense_16/bias:0' shape=(1,) dtype=float32_ref>]"
      ]
     },
     "execution_count": 56,
     "metadata": {},
     "output_type": "execute_result"
    }
   ],
   "source": [
    "linear_model.weights"
   ]
  },
  {
   "cell_type": "code",
   "execution_count": null,
   "metadata": {},
   "outputs": [],
   "source": []
  }
 ],
 "metadata": {
  "kernelspec": {
   "display_name": "Tensorflow",
   "language": "python",
   "name": "tf_venv"
  },
  "language_info": {
   "codemirror_mode": {
    "name": "ipython",
    "version": 3
   },
   "file_extension": ".py",
   "mimetype": "text/x-python",
   "name": "python",
   "nbconvert_exporter": "python",
   "pygments_lexer": "ipython3",
   "version": "3.6.6"
  }
 },
 "nbformat": 4,
 "nbformat_minor": 2
}
